{
 "cells": [
  {
   "cell_type": "code",
   "execution_count": 25,
   "id": "3d4feea1",
   "metadata": {},
   "outputs": [],
   "source": [
    "import datetime\n",
    "import hmac\n",
    "import time\n",
    "from base64 import b64encode\n",
    "\n",
    "import requests\n",
    "\n",
    "class RequestError(Exception):\n",
    "    pass\n",
    "\n",
    "\n",
    "class Auth():\n",
    "    '''PTX authentication  \n",
    "    \n",
    "    '''\n",
    "    def __init__(self, app_id, app_key):\n",
    "        self.app_id = app_id\n",
    "        self.app_key = app_key\n",
    "    \n",
    "    def signature(self, xdate):\n",
    "        HMAC = hmac.new(self.app_key.encode('utf8'), ('x-date: ' + xdate).encode('utf8'), 'sha1').digest()\n",
    "        return b64encode(HMAC).decode()\n",
    "\n",
    "    def request(self, endpoint, params, **kwargs):\n",
    "        api = 'https://ptx.transportdata.tw/MOTC'\n",
    "        xdate = time.strftime(\"%a, %d %b %Y %I:%M:%S GMT\", time.gmtime())\n",
    "        signature = self.signature(xdate)\n",
    "        headers = {\n",
    "            'Authorization': f'hmac username=\"{self.app_id}\", algorithm=\"hmac-sha1\", headers=\"x-date\", signature=\"{signature}\"',\n",
    "            'x-date': xdate,\n",
    "            'Accept-Encoding': 'gzip, deflate'\n",
    "        }\n",
    "        with requests.get(f'{api}{endpoint}', headers=headers, params=params, **kwargs) as req:\n",
    "            if req.status_code != 200:\n",
    "                raise RequestError(f'請求錯誤 {req.status_code}')\n",
    "            return req.content"
   ]
  },
  {
   "cell_type": "code",
   "execution_count": 26,
   "id": "3feda6c8",
   "metadata": {},
   "outputs": [
    {
     "name": "stdout",
     "output_type": "stream",
     "text": [
      "b'{\"message\":\"HMAC signature cannot be verified\"}\\n'\n"
     ]
    }
   ],
   "source": [
    "from hashlib import sha1\n",
    "import hmac\n",
    "from wsgiref.handlers import format_date_time\n",
    "from datetime import datetime\n",
    "from time import mktime\n",
    "import base64\n",
    "from requests import request\n",
    "from pprint import pprint\n",
    "\n",
    "app_id = 'citymapper_tw'\n",
    "app_key = 'WBK.T27F93'\n",
    "\n",
    "class Auth():\n",
    "\n",
    "    def __init__(self, app_id, app_key):\n",
    "        self.app_id = app_id\n",
    "        self.app_key = app_key\n",
    "\n",
    "    def get_auth_header(self):\n",
    "        xdate = format_date_time(mktime(datetime.now().timetuple()))\n",
    "        hashed = hmac.new(self.app_key.encode('utf8'), ('x-date: ' + xdate).encode('utf8'), sha1)\n",
    "        signature = base64.b64encode(hashed.digest()).decode()\n",
    "\n",
    "        authorization = 'hmac username=\"' + self.app_id + '\", ' + \\\n",
    "                        'algorithm=\"hmac-sha1\", ' + \\\n",
    "                        'headers=\"x-date\", ' + \\\n",
    "                        'signature=\"' + signature + '\"'\n",
    "        return {\n",
    "            'Authorization': authorization,\n",
    "            'x-date': format_date_time(mktime(datetime.now().timetuple())),\n",
    "            'Accept - Encoding': 'gzip'\n",
    "        }\n",
    "\n",
    "\n",
    "if __name__ == '__main__':\n",
    "    a = Auth(app_id, app_key)\n",
    "    response = request('get', 'https://ptx.transportdata.tw/MOTC/v2/Bus/Stop/City/Taipei?$top=30&$format=JSON', headers= a.get_auth_header())\n",
    "    pprint(response.content)"
   ]
  },
  {
   "cell_type": "code",
   "execution_count": null,
   "id": "e165bb70",
   "metadata": {},
   "outputs": [],
   "source": []
  },
  {
   "cell_type": "code",
   "execution_count": null,
   "id": "ae3e9ace",
   "metadata": {},
   "outputs": [],
   "source": []
  },
  {
   "cell_type": "code",
   "execution_count": null,
   "id": "17983f18",
   "metadata": {},
   "outputs": [],
   "source": []
  }
 ],
 "metadata": {
  "kernelspec": {
   "display_name": "Python 3",
   "language": "python",
   "name": "python3"
  },
  "language_info": {
   "codemirror_mode": {
    "name": "ipython",
    "version": 3
   },
   "file_extension": ".py",
   "mimetype": "text/x-python",
   "name": "python",
   "nbconvert_exporter": "python",
   "pygments_lexer": "ipython3",
   "version": "3.8.8"
  }
 },
 "nbformat": 4,
 "nbformat_minor": 5
}
